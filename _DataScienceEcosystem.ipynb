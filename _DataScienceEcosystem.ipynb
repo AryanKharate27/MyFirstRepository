{
 "cells": [
  {
   "cell_type": "markdown",
   "id": "fdda3f1c-4a14-4f13-a655-5b756ee1f058",
   "metadata": {},
   "source": [
    "# Data Science Tools and Ecosystem"
   ]
  },
  {
   "cell_type": "markdown",
   "id": "5365e3b7-9fff-4615-bb30-09c7cb47a771",
   "metadata": {},
   "source": [
    "### In this notebook, Data Science Tools and Ecosystem are summarized."
   ]
  },
  {
   "cell_type": "markdown",
   "id": "a680010b-7cc0-47e8-93c3-1a272b7d314e",
   "metadata": {},
   "source": [
    "**Objectives:**\n",
    "* List popular languages for Data Science\n",
    "*  a simple arithmetic expression to mutiply then add integers\n",
    "* Data Science Tools\n"
   ]
  },
  {
   "cell_type": "markdown",
   "id": "d17d3fd5-47c4-4ffe-bb5a-48068af63ce7",
   "metadata": {
    "tags": []
   },
   "source": [
    "# Some of the popular languages that Data Scientists use are:\n",
    "###### 1)Python\n",
    "###### 2)R\n",
    "###### 3)SQL\n",
    "###### 4)Java\n"
   ]
  },
  {
   "cell_type": "markdown",
   "id": "d40ba66f-60f9-4c46-999b-19ce5b4f3ef6",
   "metadata": {},
   "source": [
    "# Some of the commonly used libraries used by Data Scientists include:\n",
    "###### 1)Pandas\n",
    "###### 2)Numpy\n",
    "###### 3)TensorFlow\n",
    "###### 4)Matplotlib\n",
    "###### 5)Pytorch"
   ]
  },
  {
   "cell_type": "markdown",
   "id": "3501db52-a45c-4ea6-a127-16844d4f2a9d",
   "metadata": {},
   "source": [
    "# Data Science Tools:\n",
    "###### 1)Jupyter Notebooks\n",
    "###### 2)JupyterLite\n",
    "###### 3)Visual Studio Code"
   ]
  },
  {
   "cell_type": "markdown",
   "id": "c2a77b78-af80-40a6-9d66-da9ee826c67b",
   "metadata": {},
   "source": [
    "### Below are a few examples of evaluating arithmetic expressions in Python:"
   ]
  },
  {
   "cell_type": "code",
   "execution_count": 4,
   "id": "c73ffbf3-3662-4914-a5fd-9f87d8499985",
   "metadata": {
    "tags": []
   },
   "outputs": [
    {
     "data": {
      "text/plain": [
       "17"
      ]
     },
     "execution_count": 4,
     "metadata": {},
     "output_type": "execute_result"
    }
   ],
   "source": [
    " #This a simple arithmetic expression to mutiply then add integers\n",
    "(3*4)+5"
   ]
  },
  {
   "cell_type": "code",
   "execution_count": 5,
   "id": "f41f3b49-2906-4e7a-91e1-9c67e0d08137",
   "metadata": {
    "tags": []
   },
   "outputs": [
    {
     "name": "stdout",
     "output_type": "stream",
     "text": [
      "3.3333333333333335\n"
     ]
    }
   ],
   "source": [
    "# This will convert 200 minutes to hours by diving by 60\n",
    "minutes = 200\n",
    "hours = minutes/60\n",
    "print(hours)"
   ]
  },
  {
   "cell_type": "markdown",
   "id": "8e23e5f9-1383-4a93-8908-b1712b37048a",
   "metadata": {},
   "source": [
    "## Author\n",
    "Aryan.K"
   ]
  },
  {
   "cell_type": "code",
   "execution_count": null,
   "id": "68c6b3e0-7f2b-40f1-aad2-e86a24a0adb0",
   "metadata": {},
   "outputs": [],
   "source": []
  }
 ],
 "metadata": {
  "kernelspec": {
   "display_name": "Python",
   "language": "python",
   "name": "conda-env-python-py"
  },
  "language_info": {
   "codemirror_mode": {
    "name": "ipython",
    "version": 3
   },
   "file_extension": ".py",
   "mimetype": "text/x-python",
   "name": "python",
   "nbconvert_exporter": "python",
   "pygments_lexer": "ipython3",
   "version": "3.7.12"
  }
 },
 "nbformat": 4,
 "nbformat_minor": 5
}
